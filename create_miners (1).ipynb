{
 "cells": [
  {
   "cell_type": "code",
   "execution_count": 1,
   "metadata": {},
   "outputs": [],
   "source": [
    "import hashlib"
   ]
  },
  {
   "cell_type": "code",
   "execution_count": 2,
   "metadata": {},
   "outputs": [],
   "source": [
    "def sha256(message):\n",
    "    return hashlib.sha256(message.encode('ascii')).hexdigest()"
   ]
  },
  {
   "cell_type": "code",
   "execution_count": 3,
   "metadata": {},
   "outputs": [],
   "source": [
    "def mine(message, difficulty=1):\n",
    "   assert difficulty >= 1\n",
    "   prefix = '1' * difficulty\n",
    "   for i in range(1000):\n",
    "      digest = sha256(str(hash(message)) + str(i))\n",
    "      if digest.startswith(prefix):\n",
    "         print (\"after \" + str(i) + \" iterations found nonce: \"+ digest)\n",
    "         return digest"
   ]
  },
  {
   "cell_type": "code",
   "execution_count": 4,
   "metadata": {},
   "outputs": [
    {
     "name": "stdout",
     "output_type": "stream",
     "text": [
      "after 168 iterations found nonce: 11dcacd406353dc671a1f5e42ed243bb18907424a330035db97b186732e6816a\n"
     ]
    },
    {
     "data": {
      "text/plain": [
       "'11dcacd406353dc671a1f5e42ed243bb18907424a330035db97b186732e6816a'"
      ]
     },
     "execution_count": 4,
     "metadata": {},
     "output_type": "execute_result"
    }
   ],
   "source": [
    "mine (\"test message\", 2)\n"
   ]
  }
 ],
 "metadata": {
  "kernelspec": {
   "display_name": "model",
   "language": "python",
   "name": "python3"
  },
  "language_info": {
   "codemirror_mode": {
    "name": "ipython",
    "version": 3
   },
   "file_extension": ".py",
   "mimetype": "text/x-python",
   "name": "python",
   "nbconvert_exporter": "python",
   "pygments_lexer": "ipython3",
   "version": "3.10.6"
  },
  "orig_nbformat": 4
 },
 "nbformat": 4,
 "nbformat_minor": 2
}
