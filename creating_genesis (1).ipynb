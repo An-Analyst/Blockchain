{
 "cells": [
  {
   "cell_type": "code",
   "execution_count": 1,
   "metadata": {},
   "outputs": [],
   "source": [
    "import binascii\n",
    "import datetime\n",
    "import collections\n",
    "import binascii\n",
    "import datetime\n",
    "import collections\n",
    "import Crypto\n",
    "import Crypto.Random\n",
    "from Crypto.Hash import SHA\n",
    "from Crypto.PublicKey import RSA\n",
    "from Crypto.Signature import PKCS1_v1_5"
   ]
  },
  {
   "cell_type": "code",
   "execution_count": 2,
   "metadata": {},
   "outputs": [],
   "source": [
    "class Client:\n",
    "    def __init__(self):\n",
    "        random = Crypto.Random.new().read\n",
    "        self._private_key = RSA.generate(1024, random)\n",
    "        self._public_key = self._private_key.publickey()\n",
    "        self._signer = PKCS1_v1_5.new(self._private_key)\n",
    "\n",
    "    @property\n",
    "    def identity(self):\n",
    "        return binascii.hexlify(self._public_key.exportKey(format='DER')).decode('ascii')\n",
    "        "
   ]
  },
  {
   "cell_type": "code",
   "execution_count": 3,
   "metadata": {},
   "outputs": [],
   "source": [
    "class Transaction:\n",
    "    def __init__(self, sender, recipient, value):\n",
    "        self.sender = sender\n",
    "        self.recipient = recipient\n",
    "        self.value = value\n",
    "        self.time = datetime.datetime.now()\n",
    "\n",
    "\n",
    "    def to_dict(self):\n",
    "        if self.sender == \"Genesis\":\n",
    "            identity = \"Genesis\"\n",
    "        else:\n",
    "            identity = self.sender.identity\n",
    "\n",
    "        return collections.OrderedDict({'sender': identity,'recipient': self.recipient,'value': self.value,'time' : self.time})\n",
    "\n",
    "    def sign_transaction(self):\n",
    "        private_key = self.sender._private_key\n",
    "        signer = PKCS1_v1_5.new(private_key)\n",
    "        h = SHA.new(str(self.to_dict()).encode('utf8'))\n",
    "        \n",
    "        return binascii.hexlify(signer.sign(h)).decode('ascii')"
   ]
  },
  {
   "cell_type": "code",
   "execution_count": 4,
   "metadata": {},
   "outputs": [],
   "source": [
    "def display_transaction(transaction):\n",
    "    #for transaction in transactions:\n",
    "    dict = transaction.to_dict()\n",
    "    print (\"sender: \" + dict['sender'])\n",
    "    print ('-----')\n",
    "    print (\"recipient: \" + dict['recipient'])\n",
    "    print ('-----')\n",
    "    print (\"value: \" + str(dict['value']))\n",
    "    print ('-----')\n",
    "    print (\"time: \" + str(dict['time']))\n",
    "    print ('-----')"
   ]
  },
  {
   "cell_type": "code",
   "execution_count": 5,
   "metadata": {},
   "outputs": [],
   "source": [
    "class Block:\n",
    "   def __init__(self):\n",
    "      self.verified_transactions = []\n",
    "      self.previous_block_hash = \"\"\n",
    "      self.Nonce = \"\""
   ]
  },
  {
   "cell_type": "code",
   "execution_count": 6,
   "metadata": {},
   "outputs": [],
   "source": [
    "last_block_hash = \"\""
   ]
  },
  {
   "cell_type": "code",
   "execution_count": 7,
   "metadata": {},
   "outputs": [],
   "source": [
    "Anis = Client()"
   ]
  },
  {
   "cell_type": "code",
   "execution_count": 8,
   "metadata": {},
   "outputs": [],
   "source": [
    "t0 = Transaction (\n",
    "   \"Genesis\",\n",
    "   Anis.identity,\n",
    "   500.0\n",
    ")"
   ]
  },
  {
   "cell_type": "code",
   "execution_count": 9,
   "metadata": {},
   "outputs": [],
   "source": [
    "block0 = Block()\n"
   ]
  },
  {
   "cell_type": "code",
   "execution_count": 10,
   "metadata": {},
   "outputs": [],
   "source": [
    "block0.previous_block_hash = None\n",
    "Nonce = None"
   ]
  },
  {
   "cell_type": "code",
   "execution_count": 11,
   "metadata": {},
   "outputs": [],
   "source": [
    "block0.verified_transactions.append (t0)\n"
   ]
  },
  {
   "cell_type": "code",
   "execution_count": 12,
   "metadata": {},
   "outputs": [],
   "source": [
    "digest = hash (block0)\n",
    "last_block_hash = digest"
   ]
  },
  {
   "cell_type": "code",
   "execution_count": 13,
   "metadata": {},
   "outputs": [],
   "source": [
    "TPCoins = []"
   ]
  },
  {
   "cell_type": "code",
   "execution_count": 14,
   "metadata": {},
   "outputs": [],
   "source": [
    "def dump_blockchain (self):\n",
    "   print (\"Number of blocks in the chain: \" + str(len (self)))\n",
    "   for x in range (len(TPCoins)):\n",
    "      block_temp = TPCoins[x]\n",
    "      print (\"block # \" + str(x))\n",
    "      for transaction in block_temp.verified_transactions:\n",
    "         display_transaction (transaction)\n",
    "         print ('--------------')\n",
    "      print ('=====================================')"
   ]
  },
  {
   "cell_type": "code",
   "execution_count": 15,
   "metadata": {},
   "outputs": [],
   "source": [
    "TPCoins.append(block0)"
   ]
  },
  {
   "cell_type": "code",
   "execution_count": 16,
   "metadata": {},
   "outputs": [
    {
     "name": "stdout",
     "output_type": "stream",
     "text": [
      "Number of blocks in the chain: 1\n",
      "block # 0\n",
      "sender: Genesis\n",
      "-----\n",
      "recipient: 30819f300d06092a864886f70d010101050003818d0030818902818100c416427078cc6c2921f163007a1422c1d8ea7b050323f986b4f50e677a0c7fab97f7fd5e5052fe7b81eb37c07798d6453f93b9b0d1b4e70b21af9c50ac7aa7b4002f27ff4ba3123426b5915e2de4a12e62b0b05968638de225e6deae6f8e2ca10303678f38b0bea4c511aa31cd1db54b65ac18324ac8d6fde57cd2fcbeb714550203010001\n",
      "-----\n",
      "value: 500.0\n",
      "-----\n",
      "time: 2023-04-01 14:13:33.319544\n",
      "-----\n",
      "--------------\n",
      "=====================================\n"
     ]
    }
   ],
   "source": [
    "dump_blockchain(TPCoins)\n"
   ]
  }
 ],
 "metadata": {
  "kernelspec": {
   "display_name": "model",
   "language": "python",
   "name": "python3"
  },
  "language_info": {
   "codemirror_mode": {
    "name": "ipython",
    "version": 3
   },
   "file_extension": ".py",
   "mimetype": "text/x-python",
   "name": "python",
   "nbconvert_exporter": "python",
   "pygments_lexer": "ipython3",
   "version": "3.10.6"
  },
  "orig_nbformat": 4
 },
 "nbformat": 4,
 "nbformat_minor": 2
}
